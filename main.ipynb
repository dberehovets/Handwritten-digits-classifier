{
 "cells": [
  {
   "cell_type": "code",
   "id": "initial_id",
   "metadata": {
    "collapsed": true,
    "jupyter": {
     "outputs_hidden": true
    },
    "ExecuteTime": {
     "end_time": "2024-09-06T19:58:53.928977Z",
     "start_time": "2024-09-06T19:58:51.602977Z"
    }
   },
   "source": [
    "import cv2\n",
    "import numpy as np\n",
    "import os\n",
    "import tensorflow as tf\n",
    "\n",
    "from sklearn.model_selection import train_test_split"
   ],
   "outputs": [],
   "execution_count": 1
  },
  {
   "cell_type": "code",
   "id": "a80df0476a287cbb",
   "metadata": {
    "ExecuteTime": {
     "end_time": "2024-09-06T20:02:58.465208Z",
     "start_time": "2024-09-06T20:02:58.462424Z"
    }
   },
   "source": [
    "IMG_WIDTH, IMG_HEIGHT = 28, 28\n",
    "NUM_CATEGORIES = 10\n",
    "MODEL_FILE = 'handwritten.keras'\n",
    "DATASET_DIR = 'dataset'"
   ],
   "outputs": [],
   "execution_count": 9
  },
  {
   "cell_type": "code",
   "id": "5ce6b93daf292056",
   "metadata": {
    "ExecuteTime": {
     "end_time": "2024-09-06T19:59:09.670194Z",
     "start_time": "2024-09-06T19:59:09.665205Z"
    }
   },
   "source": [
    "def get_image_as_array(image_path):\n",
    "    arr = cv2.imread(image_path, cv2.IMREAD_UNCHANGED)\n",
    "    if arr.shape[2] == 4:     # we have an alpha channel\n",
    "        a1 = ~arr[:,:,3]        # extract and invert that alpha\n",
    "        arr = cv2.add(cv2.merge([a1,a1,a1,a1]), arr)   # add up values (with clipping)\n",
    "        arr = cv2.cvtColor(arr, cv2.COLOR_RGBA2RGB)\n",
    "    \n",
    "    return cv2.resize(arr, (IMG_WIDTH, IMG_HEIGHT))\n",
    "\n",
    "\n",
    "def load_data(data_dir):\n",
    "    images = []\n",
    "    labels = []\n",
    "    for directory in os.listdir(data_dir):\n",
    "        if directory.startswith('.'):\n",
    "            continue\n",
    "\n",
    "        for img in os.listdir(os.path.join(data_dir, directory)):\n",
    "            if img.startswith('.'):\n",
    "                continue\n",
    "            \n",
    "            images.append(get_image_as_array(os.path.join(data_dir, directory, img)))\n",
    "            labels.append(int(directory))\n",
    "\n",
    "    return images, labels"
   ],
   "outputs": [],
   "execution_count": 3
  },
  {
   "cell_type": "code",
   "id": "e9bcce57a2b7de49",
   "metadata": {
    "ExecuteTime": {
     "end_time": "2024-09-06T20:24:50.055292Z",
     "start_time": "2024-09-06T20:24:50.050839Z"
    }
   },
   "source": [
    "def get_model():\n",
    "    data_augmentation = tf.keras.Sequential([\n",
    "      tf.keras.layers.RandomRotation(0.3),\n",
    "    ])\n",
    "    model = tf.keras.models.Sequential([\n",
    "        tf.keras.Input(shape=(IMG_WIDTH, IMG_HEIGHT, 3)),\n",
    "        data_augmentation,\n",
    "        tf.keras.layers.Conv2D(26, (4, 4), activation=\"relu\"),\n",
    "\n",
    "        tf.keras.layers.MaxPooling2D(pool_size=(3, 3)),\n",
    "        tf.keras.layers.Flatten(),\n",
    "\n",
    "        tf.keras.layers.Dense(128, activation=\"relu\"),\n",
    "        tf.keras.layers.Dense(128, activation=\"relu\"),\n",
    "        tf.keras.layers.Dropout(0.3),\n",
    "\n",
    "        tf.keras.layers.Dense(NUM_CATEGORIES, activation=\"softmax\")\n",
    "    ])\n",
    "\n",
    "    model.compile(\n",
    "        optimizer=\"adam\",\n",
    "        loss=\"categorical_crossentropy\",\n",
    "        metrics=[\"accuracy\"]\n",
    "    )\n",
    "    return model"
   ],
   "outputs": [],
   "execution_count": 49
  },
  {
   "cell_type": "code",
   "id": "f5d4a8d2344f2a5a",
   "metadata": {
    "ExecuteTime": {
     "end_time": "2024-09-06T20:24:53.470736Z",
     "start_time": "2024-09-06T20:24:53.466834Z"
    }
   },
   "source": [
    "def train_model():\n",
    "    images, labels = load_data(DATASET_DIR)\n",
    "\n",
    "    labels = tf.keras.utils.to_categorical(labels)\n",
    "    x_train, x_test, y_train, y_test = train_test_split(np.array(images), np.array(labels), test_size=0.3)\n",
    "\n",
    "    model = get_model()\n",
    "    model.fit(x_train, y_train, epochs=10)\n",
    "    model.evaluate(x_test,  y_test, verbose=2)\n",
    "\n",
    "    model.save(MODEL_FILE)\n",
    "    print(f\"Model saved to {MODEL_FILE}\")"
   ],
   "outputs": [],
   "execution_count": 50
  },
  {
   "metadata": {
    "ExecuteTime": {
     "end_time": "2024-09-06T20:23:45.532121Z",
     "start_time": "2024-09-06T20:23:45.528762Z"
    }
   },
   "cell_type": "code",
   "source": [
    "def predict(image_path) -> int:\n",
    "    image_arr = get_image_as_array(image_path)\n",
    "    model = tf.keras.models.load_model(MODEL_FILE)\n",
    "    predictions = model.predict(np.expand_dims(image_arr, axis=0))\n",
    "    # print(predictions)\n",
    "    return np.argmax(predictions, axis=-1)[0]"
   ],
   "id": "5b9349a8ed03fac9",
   "outputs": [],
   "execution_count": 47
  },
  {
   "metadata": {
    "ExecuteTime": {
     "end_time": "2024-09-06T20:25:53.700196Z",
     "start_time": "2024-09-06T20:24:56.556545Z"
    }
   },
   "cell_type": "code",
   "source": "train_model()",
   "id": "56ace9eb0256ead2",
   "outputs": [
    {
     "name": "stdout",
     "output_type": "stream",
     "text": [
      "Epoch 1/10\n",
      "\u001B[1m1532/1532\u001B[0m \u001B[32m━━━━━━━━━━━━━━━━━━━━\u001B[0m\u001B[37m\u001B[0m \u001B[1m5s\u001B[0m 3ms/step - accuracy: 0.2252 - loss: 4.0785\n",
      "Epoch 2/10\n",
      "\u001B[1m1532/1532\u001B[0m \u001B[32m━━━━━━━━━━━━━━━━━━━━\u001B[0m\u001B[37m\u001B[0m \u001B[1m5s\u001B[0m 3ms/step - accuracy: 0.6323 - loss: 1.1600\n",
      "Epoch 3/10\n",
      "\u001B[1m1532/1532\u001B[0m \u001B[32m━━━━━━━━━━━━━━━━━━━━\u001B[0m\u001B[37m\u001B[0m \u001B[1m5s\u001B[0m 3ms/step - accuracy: 0.7069 - loss: 0.9190\n",
      "Epoch 4/10\n",
      "\u001B[1m1532/1532\u001B[0m \u001B[32m━━━━━━━━━━━━━━━━━━━━\u001B[0m\u001B[37m\u001B[0m \u001B[1m5s\u001B[0m 3ms/step - accuracy: 0.7395 - loss: 0.8277\n",
      "Epoch 5/10\n",
      "\u001B[1m1532/1532\u001B[0m \u001B[32m━━━━━━━━━━━━━━━━━━━━\u001B[0m\u001B[37m\u001B[0m \u001B[1m5s\u001B[0m 3ms/step - accuracy: 0.7697 - loss: 0.7312\n",
      "Epoch 6/10\n",
      "\u001B[1m1532/1532\u001B[0m \u001B[32m━━━━━━━━━━━━━━━━━━━━\u001B[0m\u001B[37m\u001B[0m \u001B[1m5s\u001B[0m 3ms/step - accuracy: 0.7865 - loss: 0.6954\n",
      "Epoch 7/10\n",
      "\u001B[1m1532/1532\u001B[0m \u001B[32m━━━━━━━━━━━━━━━━━━━━\u001B[0m\u001B[37m\u001B[0m \u001B[1m5s\u001B[0m 3ms/step - accuracy: 0.7946 - loss: 0.6599\n",
      "Epoch 8/10\n",
      "\u001B[1m1532/1532\u001B[0m \u001B[32m━━━━━━━━━━━━━━━━━━━━\u001B[0m\u001B[37m\u001B[0m \u001B[1m5s\u001B[0m 3ms/step - accuracy: 0.8013 - loss: 0.6384\n",
      "Epoch 9/10\n",
      "\u001B[1m1532/1532\u001B[0m \u001B[32m━━━━━━━━━━━━━━━━━━━━\u001B[0m\u001B[37m\u001B[0m \u001B[1m5s\u001B[0m 3ms/step - accuracy: 0.8084 - loss: 0.6188\n",
      "Epoch 10/10\n",
      "\u001B[1m1532/1532\u001B[0m \u001B[32m━━━━━━━━━━━━━━━━━━━━\u001B[0m\u001B[37m\u001B[0m \u001B[1m5s\u001B[0m 3ms/step - accuracy: 0.8125 - loss: 0.6155\n",
      "657/657 - 1s - 848us/step - accuracy: 0.8578 - loss: 0.4650\n",
      "Model saved to handwritten2.keras\n"
     ]
    }
   ],
   "execution_count": 51
  },
  {
   "metadata": {
    "ExecuteTime": {
     "end_time": "2024-09-06T20:26:12.219004Z",
     "start_time": "2024-09-06T20:26:11.553233Z"
    }
   },
   "cell_type": "code",
   "source": [
    "downloads = '/Users/dmytroberehovets/Downloads'\n",
    "for f in os.listdir(downloads):\n",
    "    if f.startswith('.'):\n",
    "        continue\n",
    "    \n",
    "    print(f, predict(os.path.join(downloads, f)))"
   ],
   "id": "37049a4c074ea65b",
   "outputs": [
    {
     "name": "stdout",
     "output_type": "stream",
     "text": [
      "\u001B[1m1/1\u001B[0m \u001B[32m━━━━━━━━━━━━━━━━━━━━\u001B[0m\u001B[37m\u001B[0m \u001B[1m0s\u001B[0m 17ms/step\n",
      "71.png 4\n",
      "\u001B[1m1/1\u001B[0m \u001B[32m━━━━━━━━━━━━━━━━━━━━\u001B[0m\u001B[37m\u001B[0m \u001B[1m0s\u001B[0m 18ms/step\n",
      "8.png 8\n",
      "\u001B[1m1/1\u001B[0m \u001B[32m━━━━━━━━━━━━━━━━━━━━\u001B[0m\u001B[37m\u001B[0m \u001B[1m0s\u001B[0m 20ms/step\n",
      "7r.png 7\n",
      "\u001B[1m1/1\u001B[0m \u001B[32m━━━━━━━━━━━━━━━━━━━━\u001B[0m\u001B[37m\u001B[0m \u001B[1m0s\u001B[0m 17ms/step\n",
      "81.png 8\n",
      "\u001B[1m1/1\u001B[0m \u001B[32m━━━━━━━━━━━━━━━━━━━━\u001B[0m\u001B[37m\u001B[0m \u001B[1m0s\u001B[0m 17ms/step\n",
      "5.png 5\n",
      "\u001B[1m1/1\u001B[0m \u001B[32m━━━━━━━━━━━━━━━━━━━━\u001B[0m\u001B[37m\u001B[0m \u001B[1m0s\u001B[0m 18ms/step\n",
      "7.png 7\n",
      "\u001B[1m1/1\u001B[0m \u001B[32m━━━━━━━━━━━━━━━━━━━━\u001B[0m\u001B[37m\u001B[0m \u001B[1m0s\u001B[0m 16ms/step\n",
      "2.png 2\n",
      "\u001B[1m1/1\u001B[0m \u001B[32m━━━━━━━━━━━━━━━━━━━━\u001B[0m\u001B[37m\u001B[0m \u001B[1m0s\u001B[0m 16ms/step\n",
      "5r.png 5\n",
      "\u001B[1m1/1\u001B[0m \u001B[32m━━━━━━━━━━━━━━━━━━━━\u001B[0m\u001B[37m\u001B[0m \u001B[1m0s\u001B[0m 17ms/step\n",
      "1.png 1\n"
     ]
    }
   ],
   "execution_count": 52
  },
  {
   "metadata": {},
   "cell_type": "code",
   "outputs": [],
   "execution_count": null,
   "source": "",
   "id": "85160bb42f254281"
  }
 ],
 "metadata": {
  "kernelspec": {
   "display_name": "Python 3 (ipykernel)",
   "language": "python",
   "name": "python3"
  },
  "language_info": {
   "codemirror_mode": {
    "name": "ipython",
    "version": 3
   },
   "file_extension": ".py",
   "mimetype": "text/x-python",
   "name": "python",
   "nbconvert_exporter": "python",
   "pygments_lexer": "ipython3",
   "version": "3.11.9"
  }
 },
 "nbformat": 4,
 "nbformat_minor": 5
}
